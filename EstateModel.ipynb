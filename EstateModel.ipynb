{
 "cells": [
  {
   "cell_type": "code",
   "execution_count": 1,
   "id": "0041bea3",
   "metadata": {},
   "outputs": [],
   "source": [
    "import pandas as pd\n",
    "import matplotlib.pyplot as plt\n",
    "from sklearn.model_selection import train_test_split\n",
    "from sklearn.ensemble import RandomForestRegressor\n",
    "from sklearn.metrics import mean_absolute_error, mean_squared_error, r2_score"
   ]
  },
  {
   "cell_type": "markdown",
   "id": "01add41b",
   "metadata": {},
   "source": [
    "# --- 1. Load the cleaned data ---"
   ]
  },
  {
   "cell_type": "code",
   "execution_count": 2,
   "id": "1ab22fd9",
   "metadata": {},
   "outputs": [
    {
     "data": {
      "text/html": [
       "<div>\n",
       "<style scoped>\n",
       "    .dataframe tbody tr th:only-of-type {\n",
       "        vertical-align: middle;\n",
       "    }\n",
       "\n",
       "    .dataframe tbody tr th {\n",
       "        vertical-align: top;\n",
       "    }\n",
       "\n",
       "    .dataframe thead th {\n",
       "        text-align: right;\n",
       "    }\n",
       "</style>\n",
       "<table border=\"1\" class=\"dataframe\">\n",
       "  <thead>\n",
       "    <tr style=\"text-align: right;\">\n",
       "      <th></th>\n",
       "      <th>Area</th>\n",
       "      <th>Room</th>\n",
       "      <th>Parking</th>\n",
       "      <th>Warehouse</th>\n",
       "      <th>Elevator</th>\n",
       "      <th>Address</th>\n",
       "      <th>Price</th>\n",
       "      <th>Price(USD)</th>\n",
       "    </tr>\n",
       "  </thead>\n",
       "  <tbody>\n",
       "    <tr>\n",
       "      <th>0</th>\n",
       "      <td>63</td>\n",
       "      <td>1</td>\n",
       "      <td>True</td>\n",
       "      <td>True</td>\n",
       "      <td>True</td>\n",
       "      <td>Shahran</td>\n",
       "      <td>1.850000e+09</td>\n",
       "      <td>61666.67</td>\n",
       "    </tr>\n",
       "    <tr>\n",
       "      <th>1</th>\n",
       "      <td>60</td>\n",
       "      <td>1</td>\n",
       "      <td>True</td>\n",
       "      <td>True</td>\n",
       "      <td>True</td>\n",
       "      <td>Shahran</td>\n",
       "      <td>1.850000e+09</td>\n",
       "      <td>61666.67</td>\n",
       "    </tr>\n",
       "    <tr>\n",
       "      <th>2</th>\n",
       "      <td>79</td>\n",
       "      <td>2</td>\n",
       "      <td>True</td>\n",
       "      <td>True</td>\n",
       "      <td>True</td>\n",
       "      <td>Pardis</td>\n",
       "      <td>5.500000e+08</td>\n",
       "      <td>18333.33</td>\n",
       "    </tr>\n",
       "    <tr>\n",
       "      <th>3</th>\n",
       "      <td>95</td>\n",
       "      <td>2</td>\n",
       "      <td>True</td>\n",
       "      <td>True</td>\n",
       "      <td>True</td>\n",
       "      <td>Shahrake Qods</td>\n",
       "      <td>9.025000e+08</td>\n",
       "      <td>30083.33</td>\n",
       "    </tr>\n",
       "    <tr>\n",
       "      <th>4</th>\n",
       "      <td>123</td>\n",
       "      <td>2</td>\n",
       "      <td>True</td>\n",
       "      <td>True</td>\n",
       "      <td>True</td>\n",
       "      <td>Shahrake Gharb</td>\n",
       "      <td>7.000000e+09</td>\n",
       "      <td>233333.33</td>\n",
       "    </tr>\n",
       "    <tr>\n",
       "      <th>...</th>\n",
       "      <td>...</td>\n",
       "      <td>...</td>\n",
       "      <td>...</td>\n",
       "      <td>...</td>\n",
       "      <td>...</td>\n",
       "      <td>...</td>\n",
       "      <td>...</td>\n",
       "      <td>...</td>\n",
       "    </tr>\n",
       "    <tr>\n",
       "      <th>3243</th>\n",
       "      <td>63</td>\n",
       "      <td>1</td>\n",
       "      <td>True</td>\n",
       "      <td>True</td>\n",
       "      <td>False</td>\n",
       "      <td>Feiz Garden</td>\n",
       "      <td>1.890000e+09</td>\n",
       "      <td>63000.00</td>\n",
       "    </tr>\n",
       "    <tr>\n",
       "      <th>3244</th>\n",
       "      <td>86</td>\n",
       "      <td>2</td>\n",
       "      <td>True</td>\n",
       "      <td>True</td>\n",
       "      <td>True</td>\n",
       "      <td>Southern Janatabad</td>\n",
       "      <td>3.500000e+09</td>\n",
       "      <td>116666.67</td>\n",
       "    </tr>\n",
       "    <tr>\n",
       "      <th>3245</th>\n",
       "      <td>83</td>\n",
       "      <td>2</td>\n",
       "      <td>True</td>\n",
       "      <td>True</td>\n",
       "      <td>True</td>\n",
       "      <td>Niavaran</td>\n",
       "      <td>6.800000e+09</td>\n",
       "      <td>226666.67</td>\n",
       "    </tr>\n",
       "    <tr>\n",
       "      <th>3246</th>\n",
       "      <td>105</td>\n",
       "      <td>2</td>\n",
       "      <td>True</td>\n",
       "      <td>True</td>\n",
       "      <td>True</td>\n",
       "      <td>Dorous</td>\n",
       "      <td>5.600000e+09</td>\n",
       "      <td>186666.67</td>\n",
       "    </tr>\n",
       "    <tr>\n",
       "      <th>3247</th>\n",
       "      <td>82</td>\n",
       "      <td>2</td>\n",
       "      <td>False</td>\n",
       "      <td>True</td>\n",
       "      <td>True</td>\n",
       "      <td>Parand</td>\n",
       "      <td>3.600000e+08</td>\n",
       "      <td>12000.00</td>\n",
       "    </tr>\n",
       "  </tbody>\n",
       "</table>\n",
       "<p>3248 rows × 8 columns</p>\n",
       "</div>"
      ],
      "text/plain": [
       "      Area  Room  Parking  Warehouse  Elevator             Address  \\\n",
       "0       63     1     True       True      True             Shahran   \n",
       "1       60     1     True       True      True             Shahran   \n",
       "2       79     2     True       True      True              Pardis   \n",
       "3       95     2     True       True      True       Shahrake Qods   \n",
       "4      123     2     True       True      True      Shahrake Gharb   \n",
       "...    ...   ...      ...        ...       ...                 ...   \n",
       "3243    63     1     True       True     False         Feiz Garden   \n",
       "3244    86     2     True       True      True  Southern Janatabad   \n",
       "3245    83     2     True       True      True            Niavaran   \n",
       "3246   105     2     True       True      True              Dorous   \n",
       "3247    82     2    False       True      True              Parand   \n",
       "\n",
       "             Price  Price(USD)  \n",
       "0     1.850000e+09    61666.67  \n",
       "1     1.850000e+09    61666.67  \n",
       "2     5.500000e+08    18333.33  \n",
       "3     9.025000e+08    30083.33  \n",
       "4     7.000000e+09   233333.33  \n",
       "...            ...         ...  \n",
       "3243  1.890000e+09    63000.00  \n",
       "3244  3.500000e+09   116666.67  \n",
       "3245  6.800000e+09   226666.67  \n",
       "3246  5.600000e+09   186666.67  \n",
       "3247  3.600000e+08    12000.00  \n",
       "\n",
       "[3248 rows x 8 columns]"
      ]
     },
     "execution_count": 2,
     "metadata": {},
     "output_type": "execute_result"
    }
   ],
   "source": [
    "df = pd.read_csv('./Data/cleaned_housePrice.csv')\n",
    "df"
   ]
  },
  {
   "cell_type": "markdown",
   "id": "e8601aa5",
   "metadata": {},
   "source": [
    "# --- 2. Define Features (X) and Target (y) ---"
   ]
  },
  {
   "cell_type": "code",
   "execution_count": 3,
   "id": "dcf034a1",
   "metadata": {},
   "outputs": [],
   "source": [
    "features = ['Area', 'Room', 'Parking', 'Warehouse', 'Elevator']\n",
    "target = 'Price'\n",
    "\n",
    "# Make sure all required columns exist in the DataFrame\n",
    "if not all(col in df.columns for col in features + [target]):\n",
    "    print(\"Error: One or more required columns are missing from the dataset.\")\n",
    "    exit()\n",
    "\n",
    "X = df[features]\n",
    "y = df[target]"
   ]
  },
  {
   "cell_type": "markdown",
   "id": "e982d08e",
   "metadata": {},
   "source": [
    "# --- 3. Split the data into training and testing sets ---"
   ]
  },
  {
   "cell_type": "code",
   "execution_count": 4,
   "id": "bebdcb26",
   "metadata": {},
   "outputs": [],
   "source": [
    "X_train, X_test, y_train, y_test = train_test_split(X, y, test_size=0.2, random_state=42)"
   ]
  },
  {
   "cell_type": "markdown",
   "id": "ba34031a",
   "metadata": {},
   "source": [
    "# --- 4. Train the Random Forest Regressor Model ---"
   ]
  },
  {
   "cell_type": "code",
   "execution_count": 5,
   "id": "86e6673b",
   "metadata": {},
   "outputs": [
    {
     "name": "stdout",
     "output_type": "stream",
     "text": [
      "\n",
      "Training the Random Forest model...\n",
      "Model training complete.\n"
     ]
    }
   ],
   "source": [
    "print(\"\\nTraining the Random Forest model...\")\n",
    "model = RandomForestRegressor(n_estimators=100, random_state=42)\n",
    "model.fit(X_train, y_train)\n",
    "print(\"Model training complete.\")"
   ]
  },
  {
   "cell_type": "markdown",
   "id": "f00dbe6b",
   "metadata": {},
   "source": [
    "# --- 5. Make predictions and evaluate the model ---"
   ]
  },
  {
   "cell_type": "code",
   "execution_count": 6,
   "id": "8d54edbb",
   "metadata": {},
   "outputs": [
    {
     "name": "stdout",
     "output_type": "stream",
     "text": [
      "\n",
      "--- Model Evaluation (Random Forest) ---\n",
      "R-squared (R2) Score: 0.75\n",
      "Mean Absolute Error (MAE): 2058082565.52\n",
      "Mean Squared Error (MSE): 13990618267126687744.00\n"
     ]
    }
   ],
   "source": [
    "y_pred = model.predict(X_test)\n",
    "\n",
    "print(\"\\n--- Model Evaluation (Random Forest) ---\")\n",
    "r2 = r2_score(y_test, y_pred)\n",
    "mae = mean_absolute_error(y_test, y_pred)\n",
    "mse = mean_squared_error(y_test, y_pred)\n",
    "\n",
    "print(f\"R-squared (R2) Score: {r2:.2f}\")\n",
    "print(f\"Mean Absolute Error (MAE): {mae:.2f}\")\n",
    "print(f\"Mean Squared Error (MSE): {mse:.2f}\")"
   ]
  },
  {
   "cell_type": "markdown",
   "id": "6003d9dd",
   "metadata": {},
   "source": [
    "# --- 6. Visualize Feature Importance ---"
   ]
  },
  {
   "cell_type": "code",
   "execution_count": 7,
   "id": "18c4eebe",
   "metadata": {},
   "outputs": [
    {
     "name": "stdout",
     "output_type": "stream",
     "text": [
      "\n",
      "--- Generating Feature Importance Plot ---\n"
     ]
    },
    {
     "data": {
      "image/png": "[encoded data removed]",
      "text/plain": [
       "<Figure size 1000x600 with 1 Axes>"
      ]
     },
     "metadata": {},
     "output_type": "display_data"
    }
   ],
   "source": [
    "# This helps you understand which features the model found most influential.\n",
    "print(\"\\n--- Generating Feature Importance Plot ---\")\n",
    "feature_importances = pd.Series(model.feature_importances_, index=features).sort_values(ascending=False)\n",
    "\n",
    "plt.figure(figsize=(10, 6))\n",
    "feature_importances.plot(kind='bar', color='skyblue')\n",
    "plt.title('Feature Importance', fontsize=16)\n",
    "plt.xlabel('Features', fontsize=12)\n",
    "plt.ylabel('Importance', fontsize=12)\n",
    "plt.xticks(rotation=45, ha='right')\n",
    "plt.tight_layout()\n",
    "#plt.savefig('feature_importance.png')"
   ]
  },
  {
   "cell_type": "code",
   "execution_count": 8,
   "id": "f9d7c280",
   "metadata": {},
   "outputs": [
    {
     "name": "stdout",
     "output_type": "stream",
     "text": [
      "Feature importance plot saved as 'feature_importance.png'.\n"
     ]
    }
   ],
   "source": [
    "print(\"Feature importance plot saved as 'feature_importance.png'.\")"
   ]
  }
 ],
 "metadata": {
  "kernelspec": {
   "display_name": "streamlit_pycaret",
   "language": "python",
   "name": "python3"
  },
  "language_info": {
   "codemirror_mode": {
    "name": "ipython",
    "version": 3
   },
   "file_extension": ".py",
   "mimetype": "text/x-python",
   "name": "python",
   "nbconvert_exporter": "python",
   "pygments_lexer": "ipython3",
   "version": "3.11.7"
  }
 },
 "nbformat": 4,
 "nbformat_minor": 5
}
