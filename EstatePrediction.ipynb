{
 "cells": [
  {
   "cell_type": "code",
   "execution_count": 1,
   "id": "ebec12c6",
   "metadata": {},
   "outputs": [],
   "source": [
    "import pandas as pd\n",
    "from sklearn.model_selection import train_test_split\n",
    "from sklearn.linear_model import LinearRegression\n",
    "from sklearn.metrics import mean_absolute_error, mean_squared_error, r2_score"
   ]
  },
  {
   "cell_type": "markdown",
   "id": "465d6fc8",
   "metadata": {},
   "source": [
    "# --- 1. Load the cleaned data ---"
   ]
  },
  {
   "cell_type": "code",
   "execution_count": 2,
   "id": "ac26dcbc",
   "metadata": {},
   "outputs": [
    {
     "data": {
      "text/html": [
       "<div>\n",
       "<style scoped>\n",
       "    .dataframe tbody tr th:only-of-type {\n",
       "        vertical-align: middle;\n",
       "    }\n",
       "\n",
       "    .dataframe tbody tr th {\n",
       "        vertical-align: top;\n",
       "    }\n",
       "\n",
       "    .dataframe thead th {\n",
       "        text-align: right;\n",
       "    }\n",
       "</style>\n",
       "<table border=\"1\" class=\"dataframe\">\n",
       "  <thead>\n",
       "    <tr style=\"text-align: right;\">\n",
       "      <th></th>\n",
       "      <th>Area</th>\n",
       "      <th>Room</th>\n",
       "      <th>Parking</th>\n",
       "      <th>Warehouse</th>\n",
       "      <th>Elevator</th>\n",
       "      <th>Address</th>\n",
       "      <th>Price</th>\n",
       "      <th>Price(USD)</th>\n",
       "    </tr>\n",
       "  </thead>\n",
       "  <tbody>\n",
       "    <tr>\n",
       "      <th>0</th>\n",
       "      <td>63</td>\n",
       "      <td>1</td>\n",
       "      <td>True</td>\n",
       "      <td>True</td>\n",
       "      <td>True</td>\n",
       "      <td>Shahran</td>\n",
       "      <td>1.850000e+09</td>\n",
       "      <td>61666.67</td>\n",
       "    </tr>\n",
       "    <tr>\n",
       "      <th>1</th>\n",
       "      <td>60</td>\n",
       "      <td>1</td>\n",
       "      <td>True</td>\n",
       "      <td>True</td>\n",
       "      <td>True</td>\n",
       "      <td>Shahran</td>\n",
       "      <td>1.850000e+09</td>\n",
       "      <td>61666.67</td>\n",
       "    </tr>\n",
       "    <tr>\n",
       "      <th>2</th>\n",
       "      <td>79</td>\n",
       "      <td>2</td>\n",
       "      <td>True</td>\n",
       "      <td>True</td>\n",
       "      <td>True</td>\n",
       "      <td>Pardis</td>\n",
       "      <td>5.500000e+08</td>\n",
       "      <td>18333.33</td>\n",
       "    </tr>\n",
       "    <tr>\n",
       "      <th>3</th>\n",
       "      <td>95</td>\n",
       "      <td>2</td>\n",
       "      <td>True</td>\n",
       "      <td>True</td>\n",
       "      <td>True</td>\n",
       "      <td>Shahrake Qods</td>\n",
       "      <td>9.025000e+08</td>\n",
       "      <td>30083.33</td>\n",
       "    </tr>\n",
       "    <tr>\n",
       "      <th>4</th>\n",
       "      <td>123</td>\n",
       "      <td>2</td>\n",
       "      <td>True</td>\n",
       "      <td>True</td>\n",
       "      <td>True</td>\n",
       "      <td>Shahrake Gharb</td>\n",
       "      <td>7.000000e+09</td>\n",
       "      <td>233333.33</td>\n",
       "    </tr>\n",
       "    <tr>\n",
       "      <th>...</th>\n",
       "      <td>...</td>\n",
       "      <td>...</td>\n",
       "      <td>...</td>\n",
       "      <td>...</td>\n",
       "      <td>...</td>\n",
       "      <td>...</td>\n",
       "      <td>...</td>\n",
       "      <td>...</td>\n",
       "    </tr>\n",
       "    <tr>\n",
       "      <th>3243</th>\n",
       "      <td>63</td>\n",
       "      <td>1</td>\n",
       "      <td>True</td>\n",
       "      <td>True</td>\n",
       "      <td>False</td>\n",
       "      <td>Feiz Garden</td>\n",
       "      <td>1.890000e+09</td>\n",
       "      <td>63000.00</td>\n",
       "    </tr>\n",
       "    <tr>\n",
       "      <th>3244</th>\n",
       "      <td>86</td>\n",
       "      <td>2</td>\n",
       "      <td>True</td>\n",
       "      <td>True</td>\n",
       "      <td>True</td>\n",
       "      <td>Southern Janatabad</td>\n",
       "      <td>3.500000e+09</td>\n",
       "      <td>116666.67</td>\n",
       "    </tr>\n",
       "    <tr>\n",
       "      <th>3245</th>\n",
       "      <td>83</td>\n",
       "      <td>2</td>\n",
       "      <td>True</td>\n",
       "      <td>True</td>\n",
       "      <td>True</td>\n",
       "      <td>Niavaran</td>\n",
       "      <td>6.800000e+09</td>\n",
       "      <td>226666.67</td>\n",
       "    </tr>\n",
       "    <tr>\n",
       "      <th>3246</th>\n",
       "      <td>105</td>\n",
       "      <td>2</td>\n",
       "      <td>True</td>\n",
       "      <td>True</td>\n",
       "      <td>True</td>\n",
       "      <td>Dorous</td>\n",
       "      <td>5.600000e+09</td>\n",
       "      <td>186666.67</td>\n",
       "    </tr>\n",
       "    <tr>\n",
       "      <th>3247</th>\n",
       "      <td>82</td>\n",
       "      <td>2</td>\n",
       "      <td>False</td>\n",
       "      <td>True</td>\n",
       "      <td>True</td>\n",
       "      <td>Parand</td>\n",
       "      <td>3.600000e+08</td>\n",
       "      <td>12000.00</td>\n",
       "    </tr>\n",
       "  </tbody>\n",
       "</table>\n",
       "<p>3248 rows × 8 columns</p>\n",
       "</div>"
      ],
      "text/plain": [
       "      Area  Room  Parking  Warehouse  Elevator             Address  \\\n",
       "0       63     1     True       True      True             Shahran   \n",
       "1       60     1     True       True      True             Shahran   \n",
       "2       79     2     True       True      True              Pardis   \n",
       "3       95     2     True       True      True       Shahrake Qods   \n",
       "4      123     2     True       True      True      Shahrake Gharb   \n",
       "...    ...   ...      ...        ...       ...                 ...   \n",
       "3243    63     1     True       True     False         Feiz Garden   \n",
       "3244    86     2     True       True      True  Southern Janatabad   \n",
       "3245    83     2     True       True      True            Niavaran   \n",
       "3246   105     2     True       True      True              Dorous   \n",
       "3247    82     2    False       True      True              Parand   \n",
       "\n",
       "             Price  Price(USD)  \n",
       "0     1.850000e+09    61666.67  \n",
       "1     1.850000e+09    61666.67  \n",
       "2     5.500000e+08    18333.33  \n",
       "3     9.025000e+08    30083.33  \n",
       "4     7.000000e+09   233333.33  \n",
       "...            ...         ...  \n",
       "3243  1.890000e+09    63000.00  \n",
       "3244  3.500000e+09   116666.67  \n",
       "3245  6.800000e+09   226666.67  \n",
       "3246  5.600000e+09   186666.67  \n",
       "3247  3.600000e+08    12000.00  \n",
       "\n",
       "[3248 rows x 8 columns]"
      ]
     },
     "execution_count": 2,
     "metadata": {},
     "output_type": "execute_result"
    }
   ],
   "source": [
    "df = pd.read_csv('./Data/cleaned_housePrice.csv')\n",
    "df"
   ]
  },
  {
   "cell_type": "markdown",
   "id": "01b6426b",
   "metadata": {},
   "source": [
    "# --- 2. Define Features (X) and Target (y) ---"
   ]
  },
  {
   "cell_type": "code",
   "execution_count": 3,
   "id": "3faf77af",
   "metadata": {},
   "outputs": [],
   "source": [
    "# We will use 'Area', 'Room', 'Parking', 'Warehouse', and 'Elevator' to predict 'Price'.\n",
    "features = ['Area', 'Room', 'Parking', 'Warehouse', 'Elevator']\n",
    "target = 'Price'\n",
    "\n",
    "# Make sure all required columns exist in the DataFrame\n",
    "if not all(col in df.columns for col in features + [target]):\n",
    "    print(\"Error: One or more required columns are missing from the dataset.\")\n",
    "    exit()\n",
    "\n",
    "X = df[features]\n",
    "y = df[target]"
   ]
  },
  {
   "cell_type": "markdown",
   "id": "de779142",
   "metadata": {},
   "source": [
    "# --- 3. Split the data into training and testing sets ---"
   ]
  },
  {
   "cell_type": "code",
   "execution_count": 4,
   "id": "df1b610b",
   "metadata": {},
   "outputs": [
    {
     "name": "stdout",
     "output_type": "stream",
     "text": [
      "\n",
      "Training set size: 2598 samples\n",
      "Testing set size: 650 samples\n"
     ]
    }
   ],
   "source": [
    "# This is crucial for evaluating the model's performance on new, unseen data.\n",
    "# We'll use 80% for training and 20% for testing.\n",
    "X_train, X_test, y_train, y_test = train_test_split(X, y, test_size=0.2, random_state=42)\n",
    "\n",
    "print(f\"\\nTraining set size: {X_train.shape[0]} samples\")\n",
    "print(f\"Testing set size: {X_test.shape[0]} samples\")"
   ]
  },
  {
   "cell_type": "markdown",
   "id": "4192a8d9",
   "metadata": {},
   "source": [
    "# --- 4. Train the Linear Regression Model ---"
   ]
  },
  {
   "cell_type": "code",
   "execution_count": 5,
   "id": "afbda48e",
   "metadata": {},
   "outputs": [
    {
     "name": "stdout",
     "output_type": "stream",
     "text": [
      "\n",
      "Training the Linear Regression model...\n",
      "Model training complete.\n"
     ]
    }
   ],
   "source": [
    "model = LinearRegression()\n",
    "print(\"\\nTraining the Linear Regression model...\")\n",
    "model.fit(X_train, y_train)\n",
    "print(\"Model training complete.\")"
   ]
  },
  {
   "cell_type": "markdown",
   "id": "c941c368",
   "metadata": {},
   "source": [
    "# --- 5. Make predictions on the test set ---"
   ]
  },
  {
   "cell_type": "code",
   "execution_count": 6,
   "id": "f80ba1b9",
   "metadata": {},
   "outputs": [],
   "source": [
    "y_pred = model.predict(X_test)"
   ]
  },
  {
   "cell_type": "markdown",
   "id": "d79ba5cf",
   "metadata": {},
   "source": [
    "# --- 6. Evaluate the model's performance ---"
   ]
  },
  {
   "cell_type": "code",
   "execution_count": 7,
   "id": "cd8aefdd",
   "metadata": {},
   "outputs": [
    {
     "name": "stdout",
     "output_type": "stream",
     "text": [
      "\n",
      "--- Model Evaluation ---\n",
      "R-squared (R2) Score: 0.33\n",
      "Mean Absolute Error (MAE): 4038804350.09\n",
      "Mean Squared Error (MSE): 38009926598844047360.00\n"
     ]
    }
   ],
   "source": [
    "print(\"\\n--- Model Evaluation ---\")\n",
    "\n",
    "# R-squared (R2) Score: Explains the proportion of variance in the dependent variable\n",
    "# that is predictable from the independent variable(s).\n",
    "r2 = r2_score(y_test, y_pred)\n",
    "print(f\"R-squared (R2) Score: {r2:.2f}\")\n",
    "\n",
    "# Mean Absolute Error (MAE): The average of the absolute differences between\n",
    "# predicted and actual values.\n",
    "mae = mean_absolute_error(y_test, y_pred)\n",
    "print(f\"Mean Absolute Error (MAE): {mae:.2f}\")\n",
    "\n",
    "# Mean Squared Error (MSE): The average of the squared differences.\n",
    "mse = mean_squared_error(y_test, y_pred)\n",
    "print(f\"Mean Squared Error (MSE): {mse:.2f}\")"
   ]
  },
  {
   "cell_type": "code",
   "execution_count": 8,
   "id": "ee0b96ab",
   "metadata": {},
   "outputs": [
    {
     "name": "stdout",
     "output_type": "stream",
     "text": [
      "\n",
      "Predictive modeling code executed successfully.\n"
     ]
    }
   ],
   "source": [
    "print(\"\\nPredictive modeling code executed successfully.\")"
   ]
  }
 ],
 "metadata": {
  "kernelspec": {
   "display_name": "streamlit_pycaret",
   "language": "python",
   "name": "python3"
  },
  "language_info": {
   "codemirror_mode": {
    "name": "ipython",
    "version": 3
   },
   "file_extension": ".py",
   "mimetype": "text/x-python",
   "name": "python",
   "nbconvert_exporter": "python",
   "pygments_lexer": "ipython3",
   "version": "3.11.7"
  }
 },
 "nbformat": 4,
 "nbformat_minor": 5
}
