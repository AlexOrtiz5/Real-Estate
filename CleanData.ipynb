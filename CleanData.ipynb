{
 "cells": [
  {
   "cell_type": "markdown",
   "id": "bb7c64c8",
   "metadata": {},
   "source": [
    "# Import library"
   ]
  },
  {
   "cell_type": "code",
   "execution_count": 2,
   "id": "72156c79",
   "metadata": {},
   "outputs": [],
   "source": [
    "import pandas as pd\n",
    "import numpy as np"
   ]
  },
  {
   "cell_type": "markdown",
   "id": "4f384689",
   "metadata": {},
   "source": [
    "# --- 1. Load the data ---"
   ]
  },
  {
   "cell_type": "code",
   "execution_count": 5,
   "id": "9f5e0a8c",
   "metadata": {},
   "outputs": [
    {
     "name": "stdout",
     "output_type": "stream",
     "text": [
      "\n",
      "--- Initial Data Info ---\n",
      "<class 'pandas.core.frame.DataFrame'>\n",
      "RangeIndex: 3479 entries, 0 to 3478\n",
      "Data columns (total 8 columns):\n",
      " #   Column      Non-Null Count  Dtype  \n",
      "---  ------      --------------  -----  \n",
      " 0   Area        3479 non-null   object \n",
      " 1   Room        3479 non-null   int64  \n",
      " 2   Parking     3479 non-null   bool   \n",
      " 3   Warehouse   3479 non-null   bool   \n",
      " 4   Elevator    3479 non-null   bool   \n",
      " 5   Address     3456 non-null   object \n",
      " 6   Price       3479 non-null   float64\n",
      " 7   Price(USD)  3479 non-null   float64\n",
      "dtypes: bool(3), float64(2), int64(1), object(2)\n",
      "memory usage: 146.2+ KB\n"
     ]
    }
   ],
   "source": [
    "df = pd.read_csv(\"./Data/housePrice.csv\")\n",
    "# Print initial info to see column types and non-null counts\n",
    "print(\"\\n--- Initial Data Info ---\")\n",
    "df.info()"
   ]
  },
  {
   "cell_type": "code",
   "execution_count": 6,
   "id": "03de1136",
   "metadata": {},
   "outputs": [
    {
     "data": {
      "text/plain": [
       "Index(['Area', 'Room', 'Parking', 'Warehouse', 'Elevator', 'Address', 'Price',\n",
       "       'Price(USD)'],\n",
       "      dtype='object')"
      ]
     },
     "execution_count": 6,
     "metadata": {},
     "output_type": "execute_result"
    }
   ],
   "source": [
    "df.columns"
   ]
  },
  {
   "cell_type": "markdown",
   "id": "5ebc683e",
   "metadata": {},
   "source": [
    "# --- 2. Standardize and Clean Columns ---"
   ]
  },
  {
   "cell_type": "code",
   "execution_count": 7,
   "id": "67d5a179",
   "metadata": {},
   "outputs": [],
   "source": [
    "# Assuming 'Area', 'Price', and 'Price(USD)' might have non-numeric characters.\n",
    "# The code below removes commas and converts them to a numeric type.\n",
    "\n",
    "# Function to clean and convert to float\n",
    "def clean_and_convert(column):\n",
    "    # Check if the column exists to avoid errors\n",
    "    if column in df.columns:\n",
    "        # Fill missing values with NaN (if they aren't already)\n",
    "        df[column] = pd.to_numeric(df[column].astype(str).str.replace(r'[^\\d.]', '', regex=True), errors='coerce')\n",
    "    else:\n",
    "        print(f\"Warning: Column '{column}' not found in the dataset.\")\n",
    "    return df\n",
    "\n",
    "# Apply the cleaning function to the numerical columns\n",
    "df = clean_and_convert('Area')\n",
    "df = clean_and_convert('Price')\n",
    "df = clean_and_convert('Price(USD)')"
   ]
  },
  {
   "cell_type": "markdown",
   "id": "8b664ff6",
   "metadata": {},
   "source": [
    "# --- 3. Handle Missing Values ---"
   ]
  },
  {
   "cell_type": "code",
   "execution_count": 9,
   "id": "736446d0",
   "metadata": {},
   "outputs": [],
   "source": [
    "# You can choose one of the following methods.\n",
    "\n",
    "# Method A: Fill missing values with the mean for numerical columns\n",
    "df['Area'] = df['Area'].fillna(df['Area'].mean())\n",
    "df['Price'] = df['Price'].fillna(df['Price'].mean())\n",
    "df['Price(USD)'] = df['Price(USD)'].fillna(df['Price(USD)'].mean())\n",
    "\n",
    "# Method B (Alternative): Drop rows with any missing values\n",
    "df.dropna(inplace=True)\n",
    "\n",
    "# Method C (Alternative): Fill missing values with a specific value (e.g., 0)\n",
    "df.fillna(0, inplace=True)"
   ]
  },
  {
   "cell_type": "markdown",
   "id": "92a92efc",
   "metadata": {},
   "source": [
    "# --- 4. Remove Duplicate Rows ---"
   ]
  },
  {
   "cell_type": "code",
   "execution_count": 10,
   "id": "67b05f8c",
   "metadata": {},
   "outputs": [
    {
     "name": "stdout",
     "output_type": "stream",
     "text": [
      "\n",
      "--- Duplicates Dropped ---\n",
      "Number of duplicate rows found and removed: 208\n"
     ]
    }
   ],
   "source": [
    "# Check for duplicates and drop them\n",
    "initial_rows = len(df)\n",
    "df.drop_duplicates(inplace=True)\n",
    "dropped_rows = initial_rows - len(df)\n",
    "print(f\"\\n--- Duplicates Dropped ---\")\n",
    "print(f\"Number of duplicate rows found and removed: {dropped_rows}\")"
   ]
  },
  {
   "cell_type": "markdown",
   "id": "8c6efbfc",
   "metadata": {},
   "source": [
    "# --- 5. Clean and Standardize Categorical Data (e.g., 'Address') ---"
   ]
  },
  {
   "cell_type": "code",
   "execution_count": 11,
   "id": "42fd6118",
   "metadata": {},
   "outputs": [],
   "source": [
    "# This step is optional but useful for standardizing text.\n",
    "if 'Address' in df.columns:\n",
    "    df['Address'] = df['Address'].astype(str).str.strip().str.title()\n",
    "else:\n",
    "    print(\"Warning: 'Address' column not found. Skipping text standardization.\")"
   ]
  },
  {
   "cell_type": "markdown",
   "id": "f0f98d71",
   "metadata": {},
   "source": [
    "# --- 6. Final check and Save the cleaned data ---"
   ]
  },
  {
   "cell_type": "code",
   "execution_count": 12,
   "id": "3d82daaf",
   "metadata": {},
   "outputs": [
    {
     "name": "stdout",
     "output_type": "stream",
     "text": [
      "\n",
      "--- Cleaned Data Info ---\n",
      "<class 'pandas.core.frame.DataFrame'>\n",
      "Int64Index: 3248 entries, 0 to 3478\n",
      "Data columns (total 8 columns):\n",
      " #   Column      Non-Null Count  Dtype  \n",
      "---  ------      --------------  -----  \n",
      " 0   Area        3248 non-null   int64  \n",
      " 1   Room        3248 non-null   int64  \n",
      " 2   Parking     3248 non-null   bool   \n",
      " 3   Warehouse   3248 non-null   bool   \n",
      " 4   Elevator    3248 non-null   bool   \n",
      " 5   Address     3248 non-null   object \n",
      " 6   Price       3248 non-null   float64\n",
      " 7   Price(USD)  3248 non-null   float64\n",
      "dtypes: bool(3), float64(2), int64(2), object(1)\n",
      "memory usage: 161.8+ KB\n"
     ]
    }
   ],
   "source": [
    "print(\"\\n--- Cleaned Data Info ---\")\n",
    "df.info()"
   ]
  },
  {
   "cell_type": "markdown",
   "id": "e491b7b5",
   "metadata": {},
   "source": [
    "# Save the cleaned data to a new CSV file"
   ]
  },
  {
   "cell_type": "code",
   "execution_count": 13,
   "id": "9ec528d0",
   "metadata": {},
   "outputs": [
    {
     "name": "stdout",
     "output_type": "stream",
     "text": [
      "\n",
      "Data cleaning complete! The cleaned data has been saved to 'cleaned_housePrice.csv'.\n"
     ]
    }
   ],
   "source": [
    "# You can change the filename as needed.\n",
    "df.to_csv('./Data/cleaned_housePrice.csv', index=False)\n",
    "print(\"\\nData cleaning complete! The cleaned data has been saved to 'cleaned_housePrice.csv'.\")"
   ]
  }
 ],
 "metadata": {
  "kernelspec": {
   "display_name": "streamlit_pycaret",
   "language": "python",
   "name": "python3"
  },
  "language_info": {
   "codemirror_mode": {
    "name": "ipython",
    "version": 3
   },
   "file_extension": ".py",
   "mimetype": "text/x-python",
   "name": "python",
   "nbconvert_exporter": "python",
   "pygments_lexer": "ipython3",
   "version": "3.11.7"
  }
 },
 "nbformat": 4,
 "nbformat_minor": 5
}
