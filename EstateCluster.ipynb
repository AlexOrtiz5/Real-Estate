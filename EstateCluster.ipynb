{
 "cells": [
  {
   "cell_type": "code",
   "execution_count": 1,
   "id": "7b42d326",
   "metadata": {},
   "outputs": [],
   "source": [
    "import pandas as pd\n",
    "from sklearn.preprocessing import StandardScaler\n",
    "from sklearn.cluster import KMeans\n",
    "import matplotlib.pyplot as plt"
   ]
  },
  {
   "cell_type": "markdown",
   "id": "4a61c849",
   "metadata": {},
   "source": [
    "# Load the cleaned data"
   ]
  },
  {
   "cell_type": "code",
   "execution_count": 2,
   "id": "b6df8b4a",
   "metadata": {},
   "outputs": [
    {
     "data": {
      "text/html": [
       "<div>\n",
       "<style scoped>\n",
       "    .dataframe tbody tr th:only-of-type {\n",
       "        vertical-align: middle;\n",
       "    }\n",
       "\n",
       "    .dataframe tbody tr th {\n",
       "        vertical-align: top;\n",
       "    }\n",
       "\n",
       "    .dataframe thead th {\n",
       "        text-align: right;\n",
       "    }\n",
       "</style>\n",
       "<table border=\"1\" class=\"dataframe\">\n",
       "  <thead>\n",
       "    <tr style=\"text-align: right;\">\n",
       "      <th></th>\n",
       "      <th>Area</th>\n",
       "      <th>Room</th>\n",
       "      <th>Parking</th>\n",
       "      <th>Warehouse</th>\n",
       "      <th>Elevator</th>\n",
       "      <th>Address</th>\n",
       "      <th>Price</th>\n",
       "      <th>Price(USD)</th>\n",
       "    </tr>\n",
       "  </thead>\n",
       "  <tbody>\n",
       "    <tr>\n",
       "      <th>0</th>\n",
       "      <td>63</td>\n",
       "      <td>1</td>\n",
       "      <td>True</td>\n",
       "      <td>True</td>\n",
       "      <td>True</td>\n",
       "      <td>Shahran</td>\n",
       "      <td>1.850000e+09</td>\n",
       "      <td>61666.67</td>\n",
       "    </tr>\n",
       "    <tr>\n",
       "      <th>1</th>\n",
       "      <td>60</td>\n",
       "      <td>1</td>\n",
       "      <td>True</td>\n",
       "      <td>True</td>\n",
       "      <td>True</td>\n",
       "      <td>Shahran</td>\n",
       "      <td>1.850000e+09</td>\n",
       "      <td>61666.67</td>\n",
       "    </tr>\n",
       "    <tr>\n",
       "      <th>2</th>\n",
       "      <td>79</td>\n",
       "      <td>2</td>\n",
       "      <td>True</td>\n",
       "      <td>True</td>\n",
       "      <td>True</td>\n",
       "      <td>Pardis</td>\n",
       "      <td>5.500000e+08</td>\n",
       "      <td>18333.33</td>\n",
       "    </tr>\n",
       "    <tr>\n",
       "      <th>3</th>\n",
       "      <td>95</td>\n",
       "      <td>2</td>\n",
       "      <td>True</td>\n",
       "      <td>True</td>\n",
       "      <td>True</td>\n",
       "      <td>Shahrake Qods</td>\n",
       "      <td>9.025000e+08</td>\n",
       "      <td>30083.33</td>\n",
       "    </tr>\n",
       "    <tr>\n",
       "      <th>4</th>\n",
       "      <td>123</td>\n",
       "      <td>2</td>\n",
       "      <td>True</td>\n",
       "      <td>True</td>\n",
       "      <td>True</td>\n",
       "      <td>Shahrake Gharb</td>\n",
       "      <td>7.000000e+09</td>\n",
       "      <td>233333.33</td>\n",
       "    </tr>\n",
       "    <tr>\n",
       "      <th>...</th>\n",
       "      <td>...</td>\n",
       "      <td>...</td>\n",
       "      <td>...</td>\n",
       "      <td>...</td>\n",
       "      <td>...</td>\n",
       "      <td>...</td>\n",
       "      <td>...</td>\n",
       "      <td>...</td>\n",
       "    </tr>\n",
       "    <tr>\n",
       "      <th>3243</th>\n",
       "      <td>63</td>\n",
       "      <td>1</td>\n",
       "      <td>True</td>\n",
       "      <td>True</td>\n",
       "      <td>False</td>\n",
       "      <td>Feiz Garden</td>\n",
       "      <td>1.890000e+09</td>\n",
       "      <td>63000.00</td>\n",
       "    </tr>\n",
       "    <tr>\n",
       "      <th>3244</th>\n",
       "      <td>86</td>\n",
       "      <td>2</td>\n",
       "      <td>True</td>\n",
       "      <td>True</td>\n",
       "      <td>True</td>\n",
       "      <td>Southern Janatabad</td>\n",
       "      <td>3.500000e+09</td>\n",
       "      <td>116666.67</td>\n",
       "    </tr>\n",
       "    <tr>\n",
       "      <th>3245</th>\n",
       "      <td>83</td>\n",
       "      <td>2</td>\n",
       "      <td>True</td>\n",
       "      <td>True</td>\n",
       "      <td>True</td>\n",
       "      <td>Niavaran</td>\n",
       "      <td>6.800000e+09</td>\n",
       "      <td>226666.67</td>\n",
       "    </tr>\n",
       "    <tr>\n",
       "      <th>3246</th>\n",
       "      <td>105</td>\n",
       "      <td>2</td>\n",
       "      <td>True</td>\n",
       "      <td>True</td>\n",
       "      <td>True</td>\n",
       "      <td>Dorous</td>\n",
       "      <td>5.600000e+09</td>\n",
       "      <td>186666.67</td>\n",
       "    </tr>\n",
       "    <tr>\n",
       "      <th>3247</th>\n",
       "      <td>82</td>\n",
       "      <td>2</td>\n",
       "      <td>False</td>\n",
       "      <td>True</td>\n",
       "      <td>True</td>\n",
       "      <td>Parand</td>\n",
       "      <td>3.600000e+08</td>\n",
       "      <td>12000.00</td>\n",
       "    </tr>\n",
       "  </tbody>\n",
       "</table>\n",
       "<p>3248 rows × 8 columns</p>\n",
       "</div>"
      ],
      "text/plain": [
       "      Area  Room  Parking  Warehouse  Elevator             Address  \\\n",
       "0       63     1     True       True      True             Shahran   \n",
       "1       60     1     True       True      True             Shahran   \n",
       "2       79     2     True       True      True              Pardis   \n",
       "3       95     2     True       True      True       Shahrake Qods   \n",
       "4      123     2     True       True      True      Shahrake Gharb   \n",
       "...    ...   ...      ...        ...       ...                 ...   \n",
       "3243    63     1     True       True     False         Feiz Garden   \n",
       "3244    86     2     True       True      True  Southern Janatabad   \n",
       "3245    83     2     True       True      True            Niavaran   \n",
       "3246   105     2     True       True      True              Dorous   \n",
       "3247    82     2    False       True      True              Parand   \n",
       "\n",
       "             Price  Price(USD)  \n",
       "0     1.850000e+09    61666.67  \n",
       "1     1.850000e+09    61666.67  \n",
       "2     5.500000e+08    18333.33  \n",
       "3     9.025000e+08    30083.33  \n",
       "4     7.000000e+09   233333.33  \n",
       "...            ...         ...  \n",
       "3243  1.890000e+09    63000.00  \n",
       "3244  3.500000e+09   116666.67  \n",
       "3245  6.800000e+09   226666.67  \n",
       "3246  5.600000e+09   186666.67  \n",
       "3247  3.600000e+08    12000.00  \n",
       "\n",
       "[3248 rows x 8 columns]"
      ]
     },
     "execution_count": 2,
     "metadata": {},
     "output_type": "execute_result"
    }
   ],
   "source": [
    "df = pd.read_csv('./Data/cleaned_housePrice.csv')\n",
    "df"
   ]
  },
  {
   "cell_type": "markdown",
   "id": "a399b86e",
   "metadata": {},
   "source": [
    "# Select features for clustering"
   ]
  },
  {
   "cell_type": "code",
   "execution_count": 3,
   "id": "9aee2cc5",
   "metadata": {},
   "outputs": [],
   "source": [
    "features_for_clustering = ['Area', 'Room', 'Price', 'Parking', 'Warehouse', 'Elevator']"
   ]
  },
  {
   "cell_type": "markdown",
   "id": "5ce03f3e",
   "metadata": {},
   "source": [
    "# Scale the data before clustering"
   ]
  },
  {
   "cell_type": "code",
   "execution_count": 4,
   "id": "b4f888d6",
   "metadata": {},
   "outputs": [
    {
     "name": "stdout",
     "output_type": "stream",
     "text": [
      "\n",
      "Scaling data...\n"
     ]
    }
   ],
   "source": [
    "print(\"\\nScaling data...\")\n",
    "scaler = StandardScaler()\n",
    "df_scaled = scaler.fit_transform(df[features_for_clustering])"
   ]
  },
  {
   "cell_type": "markdown",
   "id": "84cc2aa5",
   "metadata": {},
   "source": [
    "# Use the Elbow Method to find the optimal number of clusters (K)"
   ]
  },
  {
   "cell_type": "code",
   "execution_count": 5,
   "id": "c3945ee5",
   "metadata": {},
   "outputs": [
    {
     "name": "stdout",
     "output_type": "stream",
     "text": [
      "Finding optimal number of clusters (K) using the Elbow Method...\n"
     ]
    },
    {
     "data": {
      "image/png": "[encoded data removed]",
      "text/plain": [
       "<Figure size 1000x600 with 1 Axes>"
      ]
     },
     "metadata": {},
     "output_type": "display_data"
    }
   ],
   "source": [
    "print(\"Finding optimal number of clusters (K) using the Elbow Method...\")\n",
    "inertia = []\n",
    "range_of_clusters = range(1, 11)\n",
    "for k in range_of_clusters:\n",
    "    kmeans = KMeans(n_clusters=k, random_state=42, n_init=10)\n",
    "    kmeans.fit(df_scaled)\n",
    "    inertia.append(kmeans.inertia_)\n",
    "\n",
    "plt.figure(figsize=(10, 6))\n",
    "plt.plot(range_of_clusters, inertia, marker='o')\n",
    "plt.title('Elbow Method for Optimal K', fontsize=16)\n",
    "plt.xlabel('Number of Clusters (K)', fontsize=12)\n",
    "plt.ylabel('Inertia', fontsize=12)\n",
    "plt.grid(True)\n",
    "# plt.savefig('elbow_method.png')\n",
    "# print(\"Elbow method plot saved as 'elbow_method.png'.\")"
   ]
  },
  {
   "cell_type": "markdown",
   "id": "9263c307",
   "metadata": {},
   "source": [
    "# Based on the plot, choose an optimal K (e.g., 3)"
   ]
  },
  {
   "cell_type": "code",
   "execution_count": 6,
   "id": "b76add2a",
   "metadata": {},
   "outputs": [
    {
     "name": "stdout",
     "output_type": "stream",
     "text": [
      "\n",
      "Applying KMeans clustering with K = 3...\n"
     ]
    }
   ],
   "source": [
    "optimal_k = 3 \n",
    "print(f\"\\nApplying KMeans clustering with K = {optimal_k}...\")\n",
    "kmeans_model = KMeans(n_clusters=optimal_k, random_state=42, n_init=10)\n",
    "df['Cluster'] = kmeans_model.fit_predict(df_scaled)"
   ]
  },
  {
   "cell_type": "markdown",
   "id": "8cf853af",
   "metadata": {},
   "source": [
    "# Analyze the clusters"
   ]
  },
  {
   "cell_type": "code",
   "execution_count": 7,
   "id": "8331e3d2",
   "metadata": {},
   "outputs": [
    {
     "name": "stdout",
     "output_type": "stream",
     "text": [
      "\n",
      "--- Analysis of 3 Clusters ---\n",
      "\n",
      "Cluster 0:\n",
      "Number of properties: 2730\n",
      "        count          mean           std         min           25%  \\\n",
      "Area   2730.0  2.146634e+06  7.995515e+07        35.0  7.500000e+01   \n",
      "Room   2730.0  2.181319e+00  7.392189e-01         0.0  2.000000e+00   \n",
      "Price  2730.0  6.175328e+09  8.655371e+09  55000000.0  1.972000e+09   \n",
      "\n",
      "                50%           75%           max  \n",
      "Area   9.600000e+01  1.300000e+02  3.310000e+09  \n",
      "Room   2.000000e+00  3.000000e+00  5.000000e+00  \n",
      "Price  3.450000e+09  7.000000e+09  9.240000e+10  \n",
      "\n",
      "Cluster 1:\n",
      "Number of properties: 516\n",
      "       count          mean           std        min          25%          50%  \\\n",
      "Area   516.0  8.343411e+01  1.651636e+02       30.0         52.0         65.0   \n",
      "Room   516.0  1.593023e+00  7.057804e-01        0.0          1.0          2.0   \n",
      "Price  516.0  1.762447e+09  4.166445e+09  3600000.0  587250000.0  947500000.0   \n",
      "\n",
      "                75%           max  \n",
      "Area   8.000000e+01  3.600000e+03  \n",
      "Room   2.000000e+00  5.000000e+00  \n",
      "Price  1.572500e+09  7.560000e+10  \n",
      "\n",
      "Cluster 2:\n",
      "Number of properties: 2\n",
      "       count          mean           std           min           25%  \\\n",
      "Area     2.0  1.228000e+10  5.487149e+09  8.400000e+09  1.034000e+10   \n",
      "Room     2.0  2.500000e+00  7.071068e-01  2.000000e+00  2.250000e+00   \n",
      "Price    2.0  1.243000e+10  5.275017e+09  8.700000e+09  1.056500e+10   \n",
      "\n",
      "                50%           75%           max  \n",
      "Area   1.228000e+10  1.422000e+10  1.616000e+10  \n",
      "Room   2.500000e+00  2.750000e+00  3.000000e+00  \n",
      "Price  1.243000e+10  1.429500e+10  1.616000e+10  \n"
     ]
    }
   ],
   "source": [
    "print(f\"\\n--- Analysis of {optimal_k} Clusters ---\")\n",
    "for cluster_id in range(optimal_k):\n",
    "    cluster_data = df[df['Cluster'] == cluster_id]\n",
    "    print(f\"\\nCluster {cluster_id}:\")\n",
    "    print(f\"Number of properties: {len(cluster_data)}\")\n",
    "    print(cluster_data[features_for_clustering].describe().T)"
   ]
  },
  {
   "cell_type": "code",
   "execution_count": 8,
   "id": "3f56f2cc",
   "metadata": {},
   "outputs": [
    {
     "name": "stdout",
     "output_type": "stream",
     "text": [
      "\n",
      "Clustering analysis complete.\n"
     ]
    }
   ],
   "source": [
    "print(\"\\nClustering analysis complete.\")"
   ]
  }
 ],
 "metadata": {
  "kernelspec": {
   "display_name": "streamlit_pycaret",
   "language": "python",
   "name": "python3"
  },
  "language_info": {
   "codemirror_mode": {
    "name": "ipython",
    "version": 3
   },
   "file_extension": ".py",
   "mimetype": "text/x-python",
   "name": "python",
   "nbconvert_exporter": "python",
   "pygments_lexer": "ipython3",
   "version": "3.11.7"
  }
 },
 "nbformat": 4,
 "nbformat_minor": 5
}
